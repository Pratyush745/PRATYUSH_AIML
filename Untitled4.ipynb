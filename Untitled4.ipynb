{
  "nbformat": 4,
  "nbformat_minor": 0,
  "metadata": {
    "colab": {
      "provenance": [],
      "authorship_tag": "ABX9TyMvk5vvB+wbP1UEgbqMzDa+",
      "include_colab_link": true
    },
    "kernelspec": {
      "name": "python3",
      "display_name": "Python 3"
    },
    "language_info": {
      "name": "python"
    }
  },
  "cells": [
    {
      "cell_type": "markdown",
      "metadata": {
        "id": "view-in-github",
        "colab_type": "text"
      },
      "source": [
        "<a href=\"https://colab.research.google.com/github/Pratyush745/PRATYUSH_AIML/blob/main/Untitled4.ipynb\" target=\"_parent\"><img src=\"https://colab.research.google.com/assets/colab-badge.svg\" alt=\"Open In Colab\"/></a>"
      ]
    },
    {
      "cell_type": "code",
      "execution_count": null,
      "metadata": {
        "id": "rLJNuLbfsW1o"
      },
      "outputs": [],
      "source": []
    },
    {
      "cell_type": "code",
      "source": [
        "def SHOW():\n",
        "  print(\"hello python\")\n",
        "  show()"
      ],
      "metadata": {
        "id": "JvNnfdWRsvld"
      },
      "execution_count": 3,
      "outputs": []
    },
    {
      "cell_type": "code",
      "source": [],
      "metadata": {
        "id": "BCVccRteyNNQ"
      },
      "execution_count": 3,
      "outputs": []
    },
    {
      "cell_type": "code",
      "source": [
        "def SHOW():\n",
        "  print(\"hello python\")\n",
        "  show()"
      ],
      "metadata": {
        "id": "p1pe9k1OyTrG"
      },
      "execution_count": 4,
      "outputs": []
    },
    {
      "cell_type": "code",
      "source": [
        "def sum(a,b):\n",
        "  print('a+b=',(a+b))\n",
        "x=int(input('enter x'))\n",
        "y=int(input('enter y'))  \n",
        "sum(x,y)  "
      ],
      "metadata": {
        "colab": {
          "base_uri": "https://localhost:8080/"
        },
        "id": "kxj1T9OUzLSi",
        "outputId": "bd8b6f22-0de5-4359-b06f-484ddc3e7472"
      },
      "execution_count": 7,
      "outputs": [
        {
          "output_type": "stream",
          "name": "stdout",
          "text": [
            "enter x10\n",
            "enter y12\n",
            "a+b= 22\n"
          ]
        }
      ]
    },
    {
      "cell_type": "markdown",
      "source": [
        "write a python program to print n even nymbers and pass the value after 10 upto n\n"
      ],
      "metadata": {
        "id": "OWrZqefhsYRv"
      }
    }
  ]
}